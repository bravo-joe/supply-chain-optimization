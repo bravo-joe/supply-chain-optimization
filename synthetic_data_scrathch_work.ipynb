{
 "cells": [
  {
   "cell_type": "code",
   "execution_count": null,
   "id": "026257f8",
   "metadata": {},
   "outputs": [],
   "source": [
    "# Beginning of \"synthetic_data_scrathch_work.ipynb\""
   ]
  },
  {
   "cell_type": "markdown",
   "id": "8bfa7295",
   "metadata": {},
   "source": [
    "The following is creating synthetic data for the fictitious company ABG Industries, Inc. Will create some example data in order to use the PuLP and MCMC methods to optimiza a trasnportation type problem."
   ]
  },
  {
   "cell_type": "markdown",
   "id": "5dadacb0",
   "metadata": {},
   "source": [
    "### Creating Customers\n",
    "\n",
    "This company will have (arbitrarily) one hundred and twenty-five (125) customers. A for loop will add a number (1 - 125) to the `customer_` prefix."
   ]
  },
  {
   "cell_type": "code",
   "execution_count": null,
   "id": "058acccd",
   "metadata": {},
   "outputs": [
    {
     "name": "stdout",
     "output_type": "stream",
     "text": [
      "['customer-1', 'customer-2', 'customer-3', 'customer-4', 'customer-5', 'customer-6', 'customer-7', 'customer-8', 'customer-9', 'customer-10', 'customer-11', 'customer-12', 'customer-13', 'customer-14', 'customer-15', 'customer-16', 'customer-17', 'customer-18', 'customer-19', 'customer-20', 'customer-21', 'customer-22', 'customer-23', 'customer-24', 'customer-25', 'customer-26', 'customer-27', 'customer-28', 'customer-29', 'customer-30', 'customer-31', 'customer-32', 'customer-33', 'customer-34', 'customer-35', 'customer-36', 'customer-37', 'customer-38', 'customer-39', 'customer-40', 'customer-41', 'customer-42', 'customer-43', 'customer-44', 'customer-45', 'customer-46', 'customer-47', 'customer-48', 'customer-49', 'customer-50', 'customer-51', 'customer-52', 'customer-53', 'customer-54', 'customer-55', 'customer-56', 'customer-57', 'customer-58', 'customer-59', 'customer-60', 'customer-61', 'customer-62', 'customer-63', 'customer-64', 'customer-65', 'customer-66', 'customer-67', 'customer-68', 'customer-69', 'customer-70', 'customer-71', 'customer-72', 'customer-73', 'customer-74', 'customer-75', 'customer-76', 'customer-77', 'customer-78', 'customer-79', 'customer-80', 'customer-81', 'customer-82', 'customer-83', 'customer-84', 'customer-85', 'customer-86', 'customer-87', 'customer-88', 'customer-89', 'customer-90', 'customer-91', 'customer-92', 'customer-93', 'customer-94', 'customer-95', 'customer-96', 'customer-97', 'customer-98', 'customer-99', 'customer-100', 'customer-101', 'customer-102', 'customer-103', 'customer-104', 'customer-105', 'customer-106', 'customer-107', 'customer-108', 'customer-109', 'customer-110', 'customer-111', 'customer-112', 'customer-113', 'customer-114', 'customer-115', 'customer-116', 'customer-117', 'customer-118', 'customer-119', 'customer-120', 'customer-121', 'customer-122', 'customer-123', 'customer-124', 'customer-125']\n"
     ]
    }
   ],
   "source": [
    "prefix_1 = \"customer-\"\n",
    "numbered_customers = []\n",
    "\n",
    "for i in range(1, 126): # Generates suffixes from 1 to 125\n",
    "    numbered_customers.append(f\"{prefix_1}{i}\")\n",
    "\n",
    "print(numbered_customers)"
   ]
  },
  {
   "cell_type": "markdown",
   "id": "cfeda230",
   "metadata": {},
   "source": [
    "Need to compute the magnitude of 3/5 of the customers list to make a list of factories. "
   ]
  },
  {
   "cell_type": "code",
   "execution_count": 15,
   "id": "24067569",
   "metadata": {},
   "outputs": [
    {
     "name": "stdout",
     "output_type": "stream",
     "text": [
      "The number of factories is: 75\n"
     ]
    }
   ],
   "source": [
    "num_factories = int((3/5)*len(numbered_customers))\n",
    "print(f\"The number of factories is: {num_factories}\")"
   ]
  },
  {
   "cell_type": "markdown",
   "id": "e2059069",
   "metadata": {},
   "source": [
    "So, according to the above calculation, there should be about 75 factories."
   ]
  },
  {
   "cell_type": "markdown",
   "id": "5bd54021",
   "metadata": {},
   "source": [
    "### Creating Factories\n",
    "\n",
    "After determining that I need 75 fictitious factories, I will use same logic as that to create customers list, but using the `factory-` prefix (`prefix_2`)."
   ]
  },
  {
   "cell_type": "code",
   "execution_count": 17,
   "id": "3f351757",
   "metadata": {},
   "outputs": [
    {
     "name": "stdout",
     "output_type": "stream",
     "text": [
      "['factory-1', 'factory-2', 'factory-3', 'factory-4', 'factory-5', 'factory-6', 'factory-7', 'factory-8', 'factory-9', 'factory-10', 'factory-11', 'factory-12', 'factory-13', 'factory-14', 'factory-15', 'factory-16', 'factory-17', 'factory-18', 'factory-19', 'factory-20', 'factory-21', 'factory-22', 'factory-23', 'factory-24', 'factory-25', 'factory-26', 'factory-27', 'factory-28', 'factory-29', 'factory-30', 'factory-31', 'factory-32', 'factory-33', 'factory-34', 'factory-35', 'factory-36', 'factory-37', 'factory-38', 'factory-39', 'factory-40', 'factory-41', 'factory-42', 'factory-43', 'factory-44', 'factory-45', 'factory-46', 'factory-47', 'factory-48', 'factory-49', 'factory-50', 'factory-51', 'factory-52', 'factory-53', 'factory-54', 'factory-55', 'factory-56', 'factory-57', 'factory-58', 'factory-59', 'factory-60', 'factory-61', 'factory-62', 'factory-63', 'factory-64', 'factory-65', 'factory-66', 'factory-67', 'factory-68', 'factory-69', 'factory-70', 'factory-71', 'factory-72', 'factory-73', 'factory-74', 'factory-75']\n"
     ]
    }
   ],
   "source": [
    "prefix_2 = \"factory-\"\n",
    "numbered_factories = []\n",
    "\n",
    "for i in range(1, num_factories+1): # Generates suffixes from 1 to 125\n",
    "    numbered_factories.append(f\"{prefix_2}{i}\")\n",
    "\n",
    "print(numbered_factories)"
   ]
  },
  {
   "cell_type": "code",
   "execution_count": null,
   "id": "b865a89a",
   "metadata": {},
   "outputs": [],
   "source": []
  },
  {
   "cell_type": "code",
   "execution_count": null,
   "id": "5eb28144",
   "metadata": {},
   "outputs": [],
   "source": []
  },
  {
   "cell_type": "code",
   "execution_count": null,
   "id": "64f3f821",
   "metadata": {},
   "outputs": [],
   "source": []
  },
  {
   "cell_type": "code",
   "execution_count": null,
   "id": "883ecfc2",
   "metadata": {},
   "outputs": [],
   "source": []
  },
  {
   "cell_type": "code",
   "execution_count": null,
   "id": "b323016c",
   "metadata": {},
   "outputs": [],
   "source": []
  },
  {
   "cell_type": "code",
   "execution_count": null,
   "id": "3cf25d5b",
   "metadata": {},
   "outputs": [],
   "source": []
  },
  {
   "cell_type": "code",
   "execution_count": null,
   "id": "3649fbc6",
   "metadata": {},
   "outputs": [],
   "source": [
    "# End of \"synthetic_data_scrathch_work.ipynb\""
   ]
  }
 ],
 "metadata": {
  "kernelspec": {
   "display_name": "Python 3",
   "language": "python",
   "name": "python3"
  },
  "language_info": {
   "codemirror_mode": {
    "name": "ipython",
    "version": 3
   },
   "file_extension": ".py",
   "mimetype": "text/x-python",
   "name": "python",
   "nbconvert_exporter": "python",
   "pygments_lexer": "ipython3",
   "version": "3.13.5"
  }
 },
 "nbformat": 4,
 "nbformat_minor": 5
}
